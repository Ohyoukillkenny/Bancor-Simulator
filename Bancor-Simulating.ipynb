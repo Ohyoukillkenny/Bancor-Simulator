{
 "cells": [
  {
   "cell_type": "code",
   "execution_count": 35,
   "metadata": {},
   "outputs": [
    {
     "name": "stderr",
     "output_type": "stream",
     "text": [
      "/Users/konglingkun/anaconda/lib/python2.7/site-packages/matplotlib/font_manager.py:273: UserWarning: Matplotlib is building the font cache using fc-list. This may take a moment.\n",
      "  warnings.warn('Matplotlib is building the font cache using fc-list. This may take a moment.')\n"
     ]
    }
   ],
   "source": [
    "import random\n",
    "import numpy as np\n",
    "import matplotlib.pyplot as plt\n",
    "import matplotlib.mlab as mlab"
   ]
  },
  {
   "cell_type": "code",
   "execution_count": 37,
   "metadata": {},
   "outputs": [
    {
     "ename": "SyntaxError",
     "evalue": "invalid syntax (<ipython-input-37-4cb82e94e91f>, line 2)",
     "output_type": "error",
     "traceback": [
      "\u001b[0;36m  File \u001b[0;32m\"<ipython-input-37-4cb82e94e91f>\"\u001b[0;36m, line \u001b[0;32m2\u001b[0m\n\u001b[0;31m    **\u001b[0m\n\u001b[0m     ^\u001b[0m\n\u001b[0;31mSyntaxError\u001b[0m\u001b[0;31m:\u001b[0m invalid syntax\n"
     ]
    }
   ],
   "source": [
    "# here, coin number is saved as float (complying with code from github, while contradicts white paper)\n",
    "class Smartcoin(object):\n",
    "\tdef __init__(self, name='kennycoin', reservetokenName='aCoin', initCRR=0.5, initPrice=1, initIssueNum=100):\n",
    "\t\tself._Name = name\n",
    "\t\tself._ReservetokenName = reservetokenName\n",
    "\t\tself._CRR = float(initCRR)\n",
    "\t\tself._Price = float(initPrice)\n",
    "\t\tself._Supply = float(initIssueNum)\n",
    "\t\tself._ReserveBalance = float(initCRR * initIssueNum)\n",
    "\t\tself._budget = float(0)\n",
    "\n",
    "\tdef printInfo(self):\n",
    "\t\tprint '---------'\n",
    "\t\tprint 'NAME:', self._Name, '| RESERVE NAME:', self._ReservetokenName, 'CRR:', self._CRR\n",
    "\t\tprint 'PRICE:',self._Price\n",
    "\t\tprint 'SUPPLY:', self._Supply, '| RESERVE BALANCE:', self._ReserveBalance\n",
    "\t\tprint 'BUDGET:', self._budget\n",
    "        \n",
    "\tdef updatePrice(self, reserveBalance, supply, CRR):\n",
    "\t\tnewPrice = reserveBalance/(supply * CRR)\n",
    "\t\treturn newPrice\n",
    "    \n",
    "\tdef setCRR(self, newCRR = 0.5):\n",
    "\t\toldCRR = self._CRR\n",
    "\t\tself._CRR = newCRR\n",
    "\t\tprint 'CRR', oldCRR, '->', newCRR\n",
    "\n",
    "\tdef getPrice(self):\n",
    "\t\treturn self._Price\n",
    "\n",
    "\tdef purchasing(self, convertIntoNum=0):\n",
    "\t\tissuedtokenNum = self._Supply * (((self._ReserveBalance + convertIntoNum)/self._ReserveBalance)**(self._CRR) - 1)\n",
    "\t\tself._Supply = self._Supply + issuedtokenNum\n",
    "\t\tself._ReserveBalance = self._ReserveBalance + convertIntoNum\n",
    "\t\toldPrice = self._Price\n",
    "\t\tself._Price = self.updatePrice(self._ReserveBalance, self._Supply, self._CRR)\n",
    "\t\tincreaseRatio = (self._Price - oldPrice)/oldPrice\n",
    "\t\tprint '*********'\n",
    "\t\tprint convertIntoNum, self._ReservetokenName+\" convert into \"+self._Name\n",
    "\t\tprint \"Current prize of \"+self._Name+\" is\", self._Price, \"with\", increaseRatio, \"increasing.\"\n",
    "\t\tself._budget = self._budget + self._Price*self._Supply - oldPrice*(self._Supply - issuedtokenNum)\n",
    "\n",
    "\tdef destroying(self, convertOutNum=0):\n",
    "\t\tdestroyedtokenNum = self._Supply * (1 - ((self._ReserveBalance - convertOutNum)/self._ReserveBalance)**(self._CRR))\n",
    "\t\tself._Supply = self._Supply - destroyedtokenNum\n",
    "\t\tself._ReserveBalance = self._ReserveBalance - convertOutNum\n",
    "\t\toldPrice = self._Price\n",
    "\t\tself._Price = self.updatePrice(self._ReserveBalance, self._Supply, self._CRR)\n",
    "\t\tdecreaseRatio = (oldPrice-self._Price)/oldPrice\n",
    "\t\tprint '*********'\n",
    "\t\tprint convertOutNum, self._ReservetokenName+\" convert out from \"+self._Name\n",
    "\t\tprint \"Current prize of \"+self._Name+\" is\", self._Price, \"with\", decreaseRatio, \"decreasing.\"\n",
    "\t\tself._budget = self._budget + self._Price*self._Supply - oldPrice*(self._Supply + destroyedtokenNum)"
   ]
  },
  {
   "cell_type": "code",
   "execution_count": 30,
   "metadata": {},
   "outputs": [
    {
     "name": "stdout",
     "output_type": "stream",
     "text": [
      "---------\n",
      "NAME: BNT | RESERVE NAME: ETH CRR: 0.2\n",
      "PRICE: 1.0\n",
      "SUPPLY: 300000.0 | RESERVE BALANCE: 60000.0\n",
      "BUDGET: 0.0\n",
      "*********\n",
      "300 ETH convert into BNT\n",
      "Current prize of BNT is 1.00399800399 with 0.00399800398904 increasing.\n",
      "---------\n",
      "NAME: BNT | RESERVE NAME: ETH CRR: 0.2\n",
      "PRICE: 1.00399800399\n",
      "SUPPLY: 300299.401794 | RESERVE BALANCE: 60300.0\n",
      "BUDGET: 1500.0\n",
      "*********\n",
      "700 ETH convert into BNT\n",
      "Current prize of BNT is 1.01331125792 with 0.00927616777077 increasing.\n",
      "---------\n",
      "NAME: BNT | RESERVE NAME: ETH CRR: 0.2\n",
      "PRICE: 1.01331125792\n",
      "SUPPLY: 300993.399232 | RESERVE BALANCE: 61000.0\n",
      "BUDGET: 5000.0\n",
      "*********\n",
      "1308 ETH convert out from BNT\n",
      "Current prize of BNT is 0.995891220904 with 0.0171912005081 decreasing.\n",
      "---------\n",
      "NAME: BNT | RESERVE NAME: ETH CRR: 0.2\n",
      "PRICE: 0.995891220904\n",
      "SUPPLY: 299691.365618 | RESERVE BALANCE: 59692.0\n",
      "BUDGET: -1540.0\n",
      "*********\n",
      "100 ETH convert into BNT\n",
      "Current prize of BNT is 0.997225703909 with 0.0013399887228 increasing.\n",
      "---------\n",
      "NAME: BNT | RESERVE NAME: ETH CRR: 0.2\n",
      "PRICE: 0.997225703909\n",
      "SUPPLY: 299791.710972 | RESERVE BALANCE: 59792.0\n",
      "BUDGET: -1040.0\n"
     ]
    }
   ],
   "source": [
    "# example of using smartcoin class\n",
    "BNTCoin = Smartcoin(name='BNT',reservetokenName='ETH',initCRR=0.2, initPrice=1,initIssueNum=300000)\n",
    "BNTCoin.printInfo()\n",
    "BNTCoin.purchasing(300)\n",
    "BNTCoin.printInfo()\n",
    "BNTCoin.purchasing(700)\n",
    "BNTCoin.printInfo()\n",
    "BNTCoin.destroying(1308)\n",
    "BNTCoin.printInfo()\n",
    "BNTCoin.purchasing(100)\n",
    "BNTCoin.printInfo()"
   ]
  },
  {
   "cell_type": "code",
   "execution_count": 31,
   "metadata": {
    "collapsed": true
   },
   "outputs": [],
   "source": [
    "class Customers(object):\n",
    "    def __init__(self, smartToken, smartValue = 0, reserveValue = 500):\n",
    "        # _smartToken is the token customers want to buy -- SmartToken()\n",
    "        self._smartToken = smartToken\n",
    "        # _ownedSmartToken refers to smart token's number customers have\n",
    "        self._ownedSmartToken = float(0)\n",
    "        # _smartValue is the value of ownedSmartTokens -- currentPrize * owned#\n",
    "        self._smartValue = float(0)\n",
    "        self._reserveValue = float(reserveValue)\n",
    "        # _ownedvalue = _reserveValue + _smartValue\n",
    "        self._ownedvalue = float(reserveValue)\n",
    "        # gain or lose money comparing to the original state\n",
    "        self._budget = float(0)\n",
    "        \n",
    "    def printinfo(self):\n",
    "        oldownedValue = self._ownedvalue\n",
    "        self._ownedvalue = self._smartToken._Price * self._ownedSmartToken + self._reserveValue\n",
    "        self._budget = self._budget + self._ownedvalue - oldownedValue\n",
    "        print '------'\n",
    "        print 'smartToken Name:', self._smartToken._Name\n",
    "        print 'ownedvalue:', self._ownedvalue, 'budget:', self._budget\n",
    "        \n",
    "    def purchase(self, TokenNumber):\n",
    "        oldPrice = self._smartToken._Price\n",
    "        if oldPrice * TokenNumber > self._reserveValue:\n",
    "            print 'Invalid Operation in Purchase'\n",
    "            return\n",
    "        self._ownedSmartToken = self._ownedSmartToken + TokenNumber\n",
    "        self._reserveValue = self._reserveValue - oldPrice * TokenNumber\n",
    "        # smartToken.purchasing means being purchased\n",
    "        self._smartToken.purchasing(TokenNumber)\n",
    "        newPrice = self._smartToken._Price\n",
    "        self._smartValue = self._ownedSmartToken * newPrice\n",
    "        oldownedValue = self._ownedvalue\n",
    "        self._ownedvalue = self._reserveValue + self._smartValue\n",
    "        self._budget = self._budget + self._ownedvalue - oldownedValue\n",
    "        \n",
    "        \n",
    "    def destroy(self, TokenNumber):\n",
    "        oldPrice = self._smartToken._Price\n",
    "        if self._ownedSmartToken < TokenNumber:\n",
    "            print 'Invalid Operation in Destroy'\n",
    "            return\n",
    "        self._ownedSmartToken = self._ownedSmartToken - TokenNumber\n",
    "        self._reserveValue = self._reserveValue + oldPrice*TokenNumber\n",
    "        # smartToken.purchasing means being purchased\n",
    "        self._smartToken.destroying(TokenNumber)\n",
    "        newPrice = self._smartToken._Price\n",
    "        self._smartValue = self._ownedSmartToken*newPrice\n",
    "        oldownedValue = self._ownedvalue\n",
    "        self._ownedvalue = self._reserveValue + self._smartValue\n",
    "        self._budget = self._budget + self._ownedvalue - oldownedValue\n",
    "        "
   ]
  },
  {
   "cell_type": "code",
   "execution_count": 32,
   "metadata": {
    "collapsed": true
   },
   "outputs": [],
   "source": [
    "KennyCoin = Smartcoin(name='Kenny',reservetokenName='ETH',initCRR=0.2, initPrice=1,initIssueNum=300000)"
   ]
  },
  {
   "cell_type": "code",
   "execution_count": 33,
   "metadata": {},
   "outputs": [
    {
     "name": "stdout",
     "output_type": "stream",
     "text": [
      "*********\n",
      "100 ETH convert into Kenny\n",
      "Current prize of Kenny is 1.00133311126 with 0.00133311125912 increasing.\n",
      "------\n",
      "smartToken Name: Kenny\n",
      "ownedvalue: 500.133311126 budget: 0.133311125912\n",
      "---------\n",
      "NAME: Kenny | RESERVE NAME: ETH CRR: 0.2\n",
      "PRICE: 1.00133311126\n",
      "SUPPLY: 300099.9334 | RESERVE BALANCE: 60100.0\n",
      "BUDGET: 500.0\n",
      "*********\n",
      "100 ETH convert into Kenny\n",
      "Current prize of Kenny is 1.00266577896 with 0.0013308934726 increasing.\n",
      "------\n",
      "smartToken Name: Kenny\n",
      "ownedvalue: 500.13326677 budget: 0.133266770167\n",
      "------\n",
      "smartToken Name: Kenny\n",
      "ownedvalue: 500.266577896 budget: 0.266577896079\n"
     ]
    }
   ],
   "source": [
    "Alice = Customers(smartToken=KennyCoin)\n",
    "Alice.purchase(100)\n",
    "Alice.printinfo()\n",
    "KennyCoin.printInfo()\n",
    "Bob = Customers(smartToken=KennyCoin)\n",
    "Bob.purchase(100)\n",
    "Bob.printinfo()\n",
    "Alice.printinfo()\n",
    "# KennyCoin.printInfo()"
   ]
  },
  {
   "cell_type": "code",
   "execution_count": 36,
   "metadata": {},
   "outputs": [],
   "source": [
    "for x in xrange(0,100):\n",
    "    seed = random.randint(1, 10)\n",
    "    if seed <= 5:\n",
    "        # people purchasing\n",
    "        pass\n",
    "    else:\n",
    "        # people destroying coins\n",
    "        pass"
   ]
  },
  {
   "cell_type": "code",
   "execution_count": null,
   "metadata": {
    "collapsed": true
   },
   "outputs": [],
   "source": []
  }
 ],
 "metadata": {
  "kernelspec": {
   "display_name": "Python [Root]",
   "language": "python",
   "name": "Python [Root]"
  },
  "language_info": {
   "codemirror_mode": {
    "name": "ipython",
    "version": 2
   },
   "file_extension": ".py",
   "mimetype": "text/x-python",
   "name": "python",
   "nbconvert_exporter": "python",
   "pygments_lexer": "ipython2",
   "version": "2.7.12"
  }
 },
 "nbformat": 4,
 "nbformat_minor": 1
}
