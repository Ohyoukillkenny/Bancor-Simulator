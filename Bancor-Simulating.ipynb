{
 "cells": [
  {
   "cell_type": "code",
   "execution_count": 59,
   "metadata": {},
   "outputs": [],
   "source": [
    "import random\n",
    "import numpy as np\n",
    "import matplotlib.pyplot as plt\n",
    "import matplotlib.mlab as mlab"
   ]
  },
  {
   "cell_type": "code",
   "execution_count": 60,
   "metadata": {},
   "outputs": [],
   "source": [
    "# here, coin number is saved as float (complying with code from github, while contradicts white paper)\n",
    "class Smartcoin(object):\n",
    "\tdef __init__(self, name='kennycoin', reservetokenName='aCoin', initCRR=0.5, initPrice=1, initIssueNum=100):\n",
    "\t\tself._Name = name\n",
    "\t\tself._ReservetokenName = reservetokenName\n",
    "\t\tself._CRR = float(initCRR)\n",
    "\t\tself._Price = float(initPrice)\n",
    "\t\tself._Supply = float(initIssueNum)\n",
    "\t\tself._ReserveBalance = float(initCRR * initIssueNum)\n",
    "\t\tself._budget = float(0)     \n",
    "\n",
    "\tdef printInfo(self):\n",
    "\t\tprint '---------'\n",
    "\t\tprint 'NAME:', self._Name, '| RESERVE NAME:', self._ReservetokenName, 'CRR:', self._CRR\n",
    "\t\tprint 'PRICE:',self._Price\n",
    "\t\tprint 'SUPPLY:', self._Supply, '| RESERVE BALANCE:', self._ReserveBalance\n",
    "\t\tprint 'BUDGET:', self._budget\n",
    "        \n",
    "\tdef updatePrice(self, reserveBalance, supply, CRR):\n",
    "\t\tnewPrice = reserveBalance/(supply * CRR)\n",
    "\t\treturn newPrice\n",
    "    \n",
    "\tdef setCRR(self, newCRR = 0.5):\n",
    "\t\toldCRR = self._CRR\n",
    "\t\tself._CRR = newCRR\n",
    "\t\tprint 'CRR', oldCRR, '->', newCRR\n",
    "\n",
    "\tdef getPrice(self):\n",
    "\t\treturn self._Price\n",
    "\n",
    "\tdef purchasing(self, convertIntoNum=0):\n",
    "\t\t# ETH be convert into BNT\n",
    "\t\tissuedtokenNum = self._Supply * (((self._ReserveBalance + convertIntoNum)/self._ReserveBalance)**(self._CRR) - 1)\n",
    "\t\tself._Supply = self._Supply + issuedtokenNum\n",
    "\t\tself._ReserveBalance = self._ReserveBalance + convertIntoNum\n",
    "\t\toldPrice = self._Price\n",
    "\t\tself._Price = self.updatePrice(self._ReserveBalance, self._Supply, self._CRR)\n",
    "\t\tincreaseRatio = (self._Price - oldPrice)/oldPrice\n",
    "\t\tprint '*********'\n",
    "\t\tprint round(convertIntoNum,2), self._ReservetokenName+\" be converted into as\", round(issuedtokenNum,2), self._Name\n",
    "\t\tprint \"Current prize of \"+self._Name+\" is\", self._Price, \"with\", round(increaseRatio*100,4), \"% increasing.\"\n",
    "\t\tself._budget = self._budget + self._Price*self._Supply - oldPrice*(self._Supply - issuedtokenNum)\n",
    "\t\treturn issuedtokenNum\n",
    "\n",
    "\tdef destroying(self, convertOutNum=0):\n",
    "\t\t# BNT be converted out to ETH\n",
    "\t\tdestroyedtokenNum = convertOutNum      \n",
    "\t\treserveReceivedNum = self._ReserveBalance*(1 - ((self._Supply - convertOutNum)/self._Supply)**(1/self._CRR))\n",
    "\t\tself._Supply = self._Supply - destroyedtokenNum\n",
    "\t\tself._ReserveBalance = self._ReserveBalance - reserveReceivedNum\n",
    "\t\toldPrice = self._Price\n",
    "\t\tself._Price = self.updatePrice(self._ReserveBalance, self._Supply, self._CRR)\n",
    "\t\tdecreaseRatio = (oldPrice-self._Price)/oldPrice\n",
    "\t\tprint '*********'\n",
    "\t\tprint round(convertOutNum,2), self._Name+\" be converted out as\", round(reserveReceivedNum,2), self._ReservetokenName\n",
    "\t\tprint \"Current prize of \"+self._Name+\" is\", self._Price, \"with\", round(decreaseRatio*100,4), \"% decreasing.\"\n",
    "\t\tself._budget = self._budget + self._Price*self._Supply - oldPrice*(self._Supply + destroyedtokenNum)\n",
    "\t\treturn reserveReceivedNum"
   ]
  },
  {
   "cell_type": "code",
   "execution_count": 61,
   "metadata": {
    "collapsed": true
   },
   "outputs": [],
   "source": [
    "class Customers(object):\n",
    "    def __init__(self, smartToken, smartValue = 0, reserveValue = 500):\n",
    "        # _smartToken is the token customers want to buy -- SmartToken()\n",
    "        self._smartToken = smartToken\n",
    "        # _ownedSmartToken refers to smart token's number customers have\n",
    "        self._ownedSmartToken = float(0)\n",
    "        # _smartValue is the value of ownedSmartTokens -- currentPrize * owned#\n",
    "        self._smartValue = float(0)\n",
    "        self._reserveValue = float(reserveValue)\n",
    "        # _ownedvalue = _reserveValue + _smartValue\n",
    "        self._ownedvalue = float(reserveValue)\n",
    "        # gain or lose money comparing to the original state\n",
    "        self._budget = float(0)\n",
    "        \n",
    "    def printinfo(self):\n",
    "        # since new reserve will be converted into or out the kenny coin, the budget could change\n",
    "        # when print info, update the budget\n",
    "        oldownedValue = self._ownedvalue\n",
    "        self._ownedvalue = self._smartToken._Price * self._ownedSmartToken + self._reserveValue\n",
    "        self._budget = self._budget + self._ownedvalue - oldownedValue\n",
    "        print '------'\n",
    "        print 'smartToken Name:', self._smartToken._Name\n",
    "        print 'ownedvalue:', self._ownedvalue, 'budget:', self._budget\n",
    "        \n",
    "    def getReserveValue(self):\n",
    "        return self._reserveValue\n",
    "        \n",
    "    def purchase(self, reserveTokenNumber):\n",
    "        oldPrice = self._smartToken._Price\n",
    "        if reserveTokenNumber > self._reserveValue:\n",
    "            print 'Invalid Operation in Purchase'\n",
    "            return\n",
    "        # smartToken.purchasing means being converted\n",
    "        issuedSmartToken = self._smartToken.purchasing(reserveTokenNumber)\n",
    "        newPrice = self._smartToken._Price      \n",
    "        self._ownedSmartToken = self._ownedSmartToken + issuedSmartToken\n",
    "        self._smartValue = self._ownedSmartToken * newPrice\n",
    "        self._reserveValue = self._reserveValue - reserveTokenNumber\n",
    "        # in fact, in this case ownedValue and budget actually does not change at all\n",
    "        oldownedValue = self._ownedvalue\n",
    "        self._ownedvalue = self._reserveValue + self._smartValue\n",
    "        self._budget = self._budget + self._ownedvalue - oldownedValue\n",
    "        \n",
    "        \n",
    "    def destroy(self, smartTokenNumber):\n",
    "        oldPrice = self._smartToken._Price\n",
    "        if self._ownedSmartToken < smartTokenNumber:\n",
    "            print 'Invalid Operation in Destroy'\n",
    "            return\n",
    "        self._ownedSmartToken = self._ownedSmartToken - smartTokenNumber\n",
    "        # smartToken.purchasing means being purchased\n",
    "        ReceivedToken = self._smartToken.destroying(smartTokenNumber)\n",
    "        newPrice = self._smartToken._Price\n",
    "        self._smartValue = self._ownedSmartToken*newPrice\n",
    "        self._reserveValue = self._reserveValue + ReceivedToken\n",
    "        # In fact, in this case ownedValue actually does not change at all\n",
    "        oldownedValue = self._ownedvalue\n",
    "        self._ownedvalue = self._reserveValue + self._smartValue\n",
    "        self._budget = self._budget + self._ownedvalue - oldownedValue\n",
    "        "
   ]
  },
  {
   "cell_type": "code",
   "execution_count": 64,
   "metadata": {
    "collapsed": true
   },
   "outputs": [],
   "source": [
    "KennyCoin = Smartcoin(name='Kenny',reservetokenName='ETH',initCRR=0.2, initPrice=1,initIssueNum=300000)"
   ]
  },
  {
   "cell_type": "code",
   "execution_count": 66,
   "metadata": {},
   "outputs": [
    {
     "name": "stdout",
     "output_type": "stream",
     "text": [
      "*********\n",
      "100.0 ETH be converted into as 99.93 Kenny\n",
      "Current prize of Kenny is 1.00134555251 with 0.1333 % increasing.\n",
      "------\n",
      "smartToken Name: Kenny\n",
      "ownedvalue: 500.066621227 budget: 0.0666212272207\n",
      "*********\n",
      "99.93 Kenny be converted out as 100.0 ETH\n",
      "Current prize of Kenny is 1.00001247415 with 0.1331 % decreasing.\n",
      "------\n",
      "smartToken Name: Kenny\n",
      "ownedvalue: 500.0 budget: 3.45039552485e-11\n"
     ]
    }
   ],
   "source": [
    "Alice = Customers(smartToken=KennyCoin)\n",
    "Alice.purchase(100)\n",
    "Alice.printinfo()\n",
    "Alice.destroy(99.93)\n",
    "Alice.printinfo()"
   ]
  },
  {
   "cell_type": "code",
   "execution_count": 13,
   "metadata": {
    "collapsed": true
   },
   "outputs": [],
   "source": [
    "custNum = 1000\n",
    "custOriginalReserve = 500"
   ]
  },
  {
   "cell_type": "code",
   "execution_count": 14,
   "metadata": {},
   "outputs": [],
   "source": [
    "# create a customer list\n",
    "custlist = []\n",
    "i = 0\n",
    "while i < custNum:\n",
    "    custitem = Customers(smartToken = KennyCoin, reserveValue = custOriginalReserve)\n",
    "    custlist.append(custitem)\n",
    "    i = i + 1"
   ]
  },
  {
   "cell_type": "code",
   "execution_count": 36,
   "metadata": {
    "collapsed": true
   },
   "outputs": [],
   "source": [
    "while i <= 100:\n",
    "    # uses seed to let the purchase or sell happen randomly by a certain ratio\n",
    "    seed = random.randint(1, 100) \n",
    "    # assume Joe is the holder of Kennycoin\n",
    "    Joe = custlist[i]\n",
    "    if seed <= 50:\n",
    "        # Joe is purchasing\n",
    "        custReserve = Joe.getReserveValue()\n",
    "        randomBuy = random.uniform(0,custReserve)\n",
    "        # Joe make randomBuyCoin(#) reserve coins convert into KennyCoin\n",
    "        randomBuyCoin = randomBuy / KennyCoin.getPrice()\n",
    "        Joe.purchase(TokenNumber = randomBuyCoin)\n",
    "    else:\n",
    "        # Joe is selling \n",
    "        \n",
    "    i = i + 1"
   ]
  },
  {
   "cell_type": "code",
   "execution_count": null,
   "metadata": {
    "collapsed": true
   },
   "outputs": [],
   "source": []
  },
  {
   "cell_type": "code",
   "execution_count": 54,
   "metadata": {},
   "outputs": [
    {
     "name": "stdout",
     "output_type": "stream",
     "text": [
      "---------\n",
      "NAME: BNT | RESERVE NAME: ETH CRR: 0.2\n",
      "PRICE: 1.0\n",
      "SUPPLY: 300000.0 | RESERVE BALANCE: 60000.0\n",
      "BUDGET: 0.0\n",
      "*********\n",
      "300.0 ETH be converted into as 299.4 BNT\n",
      "Current prize of BNT is 1.00399800399 with 0.3998 % increasing.\n",
      "---------\n",
      "NAME: BNT | RESERVE NAME: ETH CRR: 0.2\n",
      "PRICE: 1.00399800399\n",
      "SUPPLY: 300299.401794 | RESERVE BALANCE: 60300.0\n",
      "BUDGET: 1500.0\n",
      "*********\n",
      "700.0 ETH be converted into as 694.0 BNT\n",
      "Current prize of BNT is 1.01331125792 with 0.9276 % increasing.\n",
      "---------\n",
      "NAME: BNT | RESERVE NAME: ETH CRR: 0.2\n",
      "PRICE: 1.01331125792\n",
      "SUPPLY: 300993.399232 | RESERVE BALANCE: 61000.0\n",
      "BUDGET: 5000.0\n",
      "*********\n",
      "1302.0 BNT be converted out as 1307.97 ETH\n",
      "Current prize of BNT is 0.995891667702 with 1.7191 % decreasing.\n",
      "---------\n",
      "NAME: BNT | RESERVE NAME: ETH CRR: 0.2\n",
      "PRICE: 0.995891667702\n",
      "SUPPLY: 299691.399232 | RESERVE BALANCE: 59692.0334754\n",
      "BUDGET: -1539.83262295\n",
      "*********\n",
      "100.0 ETH be converted into as 100.35 BNT\n",
      "Current prize of BNT is 0.997226150558 with 0.134 % increasing.\n",
      "---------\n",
      "NAME: BNT | RESERVE NAME: ETH CRR: 0.2\n",
      "PRICE: 0.997226150558\n",
      "SUPPLY: 299791.74454 | RESERVE BALANCE: 59792.0334754\n",
      "BUDGET: -1039.83262295\n"
     ]
    }
   ],
   "source": [
    "# example of using smartcoin class\n",
    "BNTCoin = Smartcoin(name='BNT',reservetokenName='ETH',initCRR=0.2, initPrice=1,initIssueNum=300000)\n",
    "BNTCoin.printInfo()\n",
    "BNTCoin.purchasing(300)\n",
    "BNTCoin.printInfo()\n",
    "BNTCoin.purchasing(700)\n",
    "BNTCoin.printInfo()\n",
    "BNTCoin.destroying(1302)\n",
    "BNTCoin.printInfo()\n",
    "BNTCoin.purchasing(100)\n",
    "BNTCoin.printInfo()"
   ]
  },
  {
   "cell_type": "code",
   "execution_count": null,
   "metadata": {
    "collapsed": true
   },
   "outputs": [],
   "source": []
  }
 ],
 "metadata": {
  "anaconda-cloud": {},
  "kernelspec": {
   "display_name": "Python [Root]",
   "language": "python",
   "name": "Python [Root]"
  },
  "language_info": {
   "codemirror_mode": {
    "name": "ipython",
    "version": 2
   },
   "file_extension": ".py",
   "mimetype": "text/x-python",
   "name": "python",
   "nbconvert_exporter": "python",
   "pygments_lexer": "ipython2",
   "version": "2.7.12"
  }
 },
 "nbformat": 4,
 "nbformat_minor": 1
}
