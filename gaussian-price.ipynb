{
 "cells": [
  {
   "cell_type": "code",
   "execution_count": 12,
   "metadata": {},
   "outputs": [
    {
     "name": "stdout",
     "output_type": "stream",
     "text": [
      "[ 1.67640523  1.54001572  1.5978738   1.72408932  1.6867558   1.40227221\n",
      "  1.59500884  1.48486428  1.48967811  1.54105985]\n"
     ]
    }
   ],
   "source": [
    "# coding=utf-8\n",
    "\n",
    "import numpy as np\n",
    "from numpy.linalg import cholesky\n",
    "import matplotlib.pyplot as plt\n",
    "sampleNo = 10000;\n",
    "# 1 dimension gaussian\n",
    "mu = 1.5\n",
    "sigma = 0.1\n",
    "# maximumNumber = 1000\n",
    "# maximumCtrol = sigma * np.sqrt(2*np.pi)* maximumNumber\n",
    "\n",
    "np.random.seed(0)\n",
    "s = np.random.normal(mu, sigma, sampleNo)\n",
    "print s[0:10]\n",
    "plt.hist(s, 300, normed=False)\n",
    "plt.savefig('Gaussian.png', bbox_inches='tight')\n",
    "plt.close()"
   ]
  },
  {
   "cell_type": "code",
   "execution_count": null,
   "metadata": {
    "collapsed": true
   },
   "outputs": [],
   "source": [
    "import numpy as np\n",
    "from numpy.linalg import cholesky\n",
    "import matplotlib.pyplot as plt\n",
    "# sampleNo means in every time slot, #sampleNo customers come into market\n",
    "sampleNo = 2000;\n",
    "# set the expectation of initPrize (first we fix it), Should it change with time ?\n",
    "initPrize = 1.5\n",
    "# 1 dimension gaussian\n",
    "mu = initPrize\n",
    "sigma = 0.1\n",
    "np.random.seed(0)\n",
    "# number of customers is gaussian distributed with custExpectedPrize\n",
    "# we assume when prize is mu -- initPrize, customers' number is the largest\n",
    "custExpectedPrize = np.random.normal(mu, sigma, sampleNo)\n"
   ]
  },
  {
   "cell_type": "code",
   "execution_count": 6,
   "metadata": {},
   "outputs": [
    {
     "name": "stdout",
     "output_type": "stream",
     "text": [
      "[ 249.35220878  250.74135259  252.13542821  253.53443193  254.93835985\n",
      "  256.34720789  257.76097178  259.17964708  260.60322913  262.0317131 ]\n"
     ]
    }
   ],
   "source": [
    "import numpy as np\n",
    "import matplotlib.pyplot as plt\n",
    "import matplotlib.mlab as mlab\n",
    "\n",
    "mu = 0\n",
    "sigma = 3\n",
    "maximumNumber = 1000\n",
    "x = np.linspace(-5, 5, 1000)\n",
    "y = maximumNumber * np.exp(-(x-mu)**2/(2*sigma**2))\n",
    "print y[0:10]\n",
    "fig, ax = plt.subplots()\n",
    "ax.fill(x, y, zorder=10, alpha = 0.5)\n",
    "ax.grid(True, zorder=5)\n",
    "plt.savefig('Gaussian.png', bbox_inches='tight')\n",
    "plt.close()"
   ]
  },
  {
   "cell_type": "code",
   "execution_count": null,
   "metadata": {
    "collapsed": true
   },
   "outputs": [],
   "source": []
  }
 ],
 "metadata": {
  "anaconda-cloud": {},
  "kernelspec": {
   "display_name": "Python [Root]",
   "language": "python",
   "name": "Python [Root]"
  },
  "language_info": {
   "codemirror_mode": {
    "name": "ipython",
    "version": 2
   },
   "file_extension": ".py",
   "mimetype": "text/x-python",
   "name": "python",
   "nbconvert_exporter": "python",
   "pygments_lexer": "ipython2",
   "version": "2.7.12"
  }
 },
 "nbformat": 4,
 "nbformat_minor": 1
}
