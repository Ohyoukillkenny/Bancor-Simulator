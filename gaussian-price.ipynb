{
 "cells": [
  {
   "cell_type": "code",
   "execution_count": 1,
   "metadata": {},
   "outputs": [
    {
     "name": "stdout",
     "output_type": "stream",
     "text": [
      "[ 1.67640523  1.54001572  1.5978738   1.72408932  1.6867558   1.40227221\n",
      "  1.59500884  1.48486428  1.48967811  1.54105985]\n"
     ]
    }
   ],
   "source": [
    "# coding=utf-8\n",
    "\n",
    "import numpy as np\n",
    "from numpy.linalg import cholesky\n",
    "import matplotlib.pyplot as plt\n",
    "sampleNo = 10000;\n",
    "# 1 dimension gaussian\n",
    "mu = 1.5\n",
    "sigma = 0.1\n",
    "# maximumNumber = 1000\n",
    "# maximumCtrol = sigma * np.sqrt(2*np.pi)* maximumNumber\n",
    "\n",
    "np.random.seed(0)\n",
    "s = np.random.normal(mu, sigma, sampleNo)\n",
    "print s[0:10]\n",
    "plt.hist(s, 300, normed=False)\n",
    "plt.savefig('Gaussian.png', bbox_inches='tight')\n",
    "plt.close()"
   ]
  },
  {
   "cell_type": "code",
   "execution_count": null,
   "metadata": {
    "collapsed": true
   },
   "outputs": [],
   "source": [
    "import numpy as np\n",
    "from numpy.linalg import cholesky\n",
    "import matplotlib.pyplot as plt\n",
    "# sampleNo means in every time slot, #sampleNo customers come into market\n",
    "sampleNo = 2000;\n",
    "# set the expectation of initPrize (first we fix it), Should it change with time ?\n",
    "initPrize = 1.5\n",
    "# 1 dimension gaussian\n",
    "mu = initPrize\n",
    "sigma = 0.1\n",
    "np.random.seed(0)\n",
    "# number of customers is gaussian distributed with custExpectedPrize\n",
    "# we assume when prize is mu -- initPrize, customers' number is the largest\n",
    "custExpectedPrize = np.random.normal(mu, sigma, sampleNo)\n"
   ]
  },
  {
   "cell_type": "code",
   "execution_count": 6,
   "metadata": {},
   "outputs": [
    {
     "name": "stdout",
     "output_type": "stream",
     "text": [
      "[ 249.35220878  250.74135259  252.13542821  253.53443193  254.93835985\n",
      "  256.34720789  257.76097178  259.17964708  260.60322913  262.0317131 ]\n"
     ]
    }
   ],
   "source": [
    "import numpy as np\n",
    "import matplotlib.pyplot as plt\n",
    "import matplotlib.mlab as mlab\n",
    "\n",
    "mu = 0\n",
    "sigma = 3\n",
    "maximumNumber = 1000\n",
    "x = np.linspace(-5, 5, 1000)\n",
    "y = maximumNumber * np.exp(-(x-mu)**2/(2*sigma**2))\n",
    "print y[0:10]\n",
    "fig, ax = plt.subplots()\n",
    "ax.fill(x, y, zorder=10, alpha = 0.5)\n",
    "ax.grid(True, zorder=5)\n",
    "plt.savefig('Gaussian.png', bbox_inches='tight')\n",
    "plt.close()"
   ]
  },
  {
   "cell_type": "code",
   "execution_count": 5,
   "metadata": {},
   "outputs": [
    {
     "name": "stdout",
     "output_type": "stream",
     "text": [
      "2\n",
      "7\n",
      "5\n",
      "5\n",
      "3\n",
      "9\n",
      "7\n",
      "6\n",
      "7\n",
      "7\n",
      "4\n",
      "6\n",
      "8\n",
      "2\n",
      "0\n",
      "8\n",
      "9\n",
      "5\n",
      "9\n",
      "9\n",
      "8\n",
      "7\n",
      "4\n",
      "3\n",
      "4\n",
      "2\n",
      "6\n",
      "2\n",
      "5\n",
      "4\n",
      "7\n",
      "0\n",
      "8\n",
      "9\n",
      "1\n",
      "3\n",
      "7\n",
      "7\n",
      "0\n",
      "8\n",
      "5\n",
      "0\n",
      "3\n",
      "7\n",
      "9\n",
      "3\n",
      "4\n",
      "4\n",
      "8\n",
      "1\n",
      "3\n",
      "5\n",
      "3\n",
      "5\n",
      "8\n",
      "6\n",
      "9\n",
      "9\n",
      "6\n",
      "2\n",
      "2\n",
      "5\n",
      "1\n",
      "7\n",
      "5\n",
      "7\n",
      "8\n",
      "5\n",
      "1\n",
      "3\n",
      "4\n",
      "9\n",
      "4\n",
      "7\n",
      "4\n",
      "9\n",
      "6\n",
      "2\n",
      "6\n",
      "4\n",
      "0\n",
      "3\n",
      "0\n",
      "5\n",
      "5\n",
      "5\n",
      "2\n",
      "3\n",
      "5\n",
      "9\n",
      "1\n",
      "9\n",
      "5\n",
      "3\n",
      "3\n",
      "2\n",
      "7\n",
      "3\n",
      "8\n",
      "0\n",
      "[500, 502, 501, 487, 503, 523, 520, 522, 512]\n"
     ]
    }
   ],
   "source": [
    "i = 0\n",
    "mu = 1\n",
    "sigma = 0.1\n",
    "custNum = 1000\n",
    "countBig = []\n",
    "while i < 100:\n",
    "    count = 0\n",
    "    i = i + 1\n",
    "#     np.random.seed(0)\n",
    "    print np.random.randint(0,10)\n",
    "    custExpectedPrice = np.random.normal(mu, sigma, custNum)\n",
    "    for item in custExpectedPrice:\n",
    "        if item > mu:\n",
    "            count = count + 1\n",
    "    countBig.append(count)\n",
    "print countBig[1:10]"
   ]
  },
  {
   "cell_type": "code",
   "execution_count": null,
   "metadata": {
    "collapsed": true
   },
   "outputs": [],
   "source": []
  }
 ],
 "metadata": {
  "anaconda-cloud": {},
  "kernelspec": {
   "display_name": "Python 2",
   "language": "python",
   "name": "python2"
  },
  "language_info": {
   "codemirror_mode": {
    "name": "ipython",
    "version": 2
   },
   "file_extension": ".py",
   "mimetype": "text/x-python",
   "name": "python",
   "nbconvert_exporter": "python",
   "pygments_lexer": "ipython2",
   "version": "2.7.13"
  }
 },
 "nbformat": 4,
 "nbformat_minor": 1
}
